{
 "cells": [
  {
   "cell_type": "markdown",
   "metadata": {},
   "source": [
    "# 1.4 Writing Down Qubit States"
   ]
  },
  {
   "cell_type": "code",
   "execution_count": null,
   "metadata": {},
   "outputs": [],
   "source": [
    "from qiskit import *"
   ]
  },
  {
   "cell_type": "markdown",
   "metadata": {},
   "source": [
    "## The z basis\n",
    "\n",
    "$$\n",
    "|0\\rangle = \\begin{pmatrix} 1 \\\\\\\\\\\\ 0 \\end{pmatrix} \n",
    "$$\n",
    "$$\n",
    "|1\\rangle =\\begin{pmatrix} 0 \\\\\\\\\\\\ 1 \\end{pmatrix}.\n",
    "$$\n",
    "\n",
    "## The x basis\n",
    "\n",
    "$$\n",
    "|+ \\rangle = \\frac{ |0\\rangle + |1\\rangle}{\\sqrt{2}}\n",
    "$$\n",
    "$$\n",
    "|-\\rangle = \\frac{ |0\\rangle - |1\\rangle}{\\sqrt{2}}\n",
    "$$\n",
    "\n",
    "## The y basis\n",
    "\n",
    "$$\n",
    "|\\circlearrowright\\rangle = \\frac{ | 0 \\rangle + i | 1 \\rangle}{\\sqrt{2}}\n",
    "$$\n",
    "$$\n",
    "|\\circlearrowleft\\rangle = \\frac{ | 0 \\rangle -i | 1 \\rangle}{\\sqrt{2}}\n",
    "$$\n",
    "\n",
    "## Born rule\n",
    "\n",
    "$$\n",
    "p(O_i) = \\left| \\left< O_i | \\psi \\right>\\right|^2\n",
    "$$\n",
    "\n",
    "## Uncertainty principle (for one qubit):\n",
    "\n",
    "$$\n",
    "(p^z_0-p^z_1)^2 + (p^y_0-p^y_1)^2 + (p^x_0-p^x_1)^2 = 1\n",
    "$$"
   ]
  }
 ],
 "metadata": {
  "kernelspec": {
   "display_name": "Python 3",
   "language": "python",
   "name": "python3"
  },
  "language_info": {
   "codemirror_mode": {
    "name": "ipython",
    "version": 3
   },
   "file_extension": ".py",
   "mimetype": "text/x-python",
   "name": "python",
   "nbconvert_exporter": "python",
   "pygments_lexer": "ipython3",
   "version": "3.7.4"
  }
 },
 "nbformat": 4,
 "nbformat_minor": 4
}
