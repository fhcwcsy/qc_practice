{
 "cells": [
  {
   "cell_type": "markdown",
   "metadata": {},
   "source": [
    "# 1.6 States for Many Qubits"
   ]
  },
  {
   "cell_type": "code",
   "execution_count": 5,
   "metadata": {},
   "outputs": [],
   "source": [
    "from qiskit import *\n",
    "from IPython.display import display, Markdown, Latex"
   ]
  },
  {
   "cell_type": "markdown",
   "metadata": {},
   "source": [
    "## Two qubits\n",
    "\n",
    "$$\n",
    "|a\\rangle = a_{00}|00\\rangle+ a_{01}|01\\rangle+a_{10}|10\\rangle+ a_{11}|11\\rangle = \\begin{pmatrix} a_{00} \\\\\\\\ a_{01} \\\\\\\\ a_{10} \\\\\\\\ a_{11} \\end{pmatrix}.\n",
    "$$\n",
    "\n",
    "Normalization: \n",
    "\n",
    "$$\n",
    "\\langle a|a\\rangle = 1\n",
    "$$\n",
    "\n",
    "Probability is given by the Born rule (ex. $p_{00}^{zz} = |\\langle00|a\\rangle |^2$)\n"
   ]
  },
  {
   "cell_type": "code",
   "execution_count": 6,
   "metadata": {},
   "outputs": [
    {
     "data": {
      "text/markdown": [
       "\\begin{pmatrix}(0.5000000000000001+0j)\\\\(0.5+0j)\\\\(0.3536941345835999+0.353412590552683j)\\\\(0.35369413458359983+0.3534125905526829j)\\end{pmatrix}"
      ],
      "text/plain": [
       "<IPython.core.display.Markdown object>"
      ]
     },
     "metadata": {},
     "output_type": "display_data"
    }
   ],
   "source": [
    "# set up circuit (no measurements required)\n",
    "qc = QuantumCircuit(2)\n",
    "qc.h(0)\n",
    "qc.h(1)\n",
    "qc.rz(3.14/4,1)\n",
    "\n",
    "# set up simulator that returns statevectors\n",
    "backend = Aer.get_backend('statevector_simulator')\n",
    "\n",
    "# run the circuit to get the state vector\n",
    "state = execute(qc,backend).result().get_statevector()\n",
    "\n",
    "# now we use some fanciness to display it in latex\n",
    "def state2latex(state):\n",
    "    state_latex = '\\\\begin{pmatrix}'\n",
    "    for amplitude in state:\n",
    "        state_latex += str(amplitude) + '\\\\\\\\'\n",
    "    state_latex  = state_latex[0:-2]\n",
    "    state_latex += '\\end{pmatrix}'\n",
    "    display(Markdown(state_latex))\n",
    "\n",
    "state2latex(state)"
   ]
  }
 ],
 "metadata": {
  "kernelspec": {
   "display_name": "Python 3",
   "language": "python",
   "name": "python3"
  },
  "language_info": {
   "codemirror_mode": {
    "name": "ipython",
    "version": 3
   },
   "file_extension": ".py",
   "mimetype": "text/x-python",
   "name": "python",
   "nbconvert_exporter": "python",
   "pygments_lexer": "ipython3",
   "version": "3.7.4"
  }
 },
 "nbformat": 4,
 "nbformat_minor": 4
}
